{
 "cells": [
  {
   "cell_type": "code",
   "execution_count": 2,
   "metadata": {
    "collapsed": false,
    "scrolled": true
   },
   "outputs": [],
   "source": [
    "import pandas as pd\n",
    "from datetime import date\n",
    "from lifelines import KaplanMeierFitter, CoxPHFitter, AalenAdditiveFitter\n",
    "import numpy as np\n",
    "from sqlalchemy import create_engine\n",
    "%matplotlib inline"
   ]
  },
  {
   "cell_type": "code",
   "execution_count": 87,
   "metadata": {
    "collapsed": false
   },
   "outputs": [],
   "source": [
    "#Import Data Sets\n",
    "arrests = pd.read_table(\"nflarrests.csv\", sep=\",\") #Table of Arrests\n",
    "players = pd.read_table(\"players.csv\", sep=\",\") #Table of Players Drafted"
   ]
  },
  {
   "cell_type": "code",
   "execution_count": 88,
   "metadata": {
    "collapsed": true
   },
   "outputs": [],
   "source": [
    "#Filter Data to Only Drafted Players After 2000\n",
    "players_drafted = players[(players.draft_year.isnull() == False) & (players.draft_year >= 2000)]"
   ]
  },
  {
   "cell_type": "code",
   "execution_count": 89,
   "metadata": {
    "collapsed": true
   },
   "outputs": [],
   "source": [
    "#Join the Data Sets on Player Name\n",
    "joined = pd.merge(players_drafted, arrests, how='left', on='name')"
   ]
  },
  {
   "cell_type": "code",
   "execution_count": 90,
   "metadata": {
    "collapsed": true
   },
   "outputs": [],
   "source": [
    "#Create Arrest Number - We don't want to consider 2nd, 3rd, Nth arrests. The analysis is how soon do drafted \n",
    "#players first get arrested. \n",
    "joined['arrest_rank'] = joined.groupby(['name'])['date'].rank(ascending=False)"
   ]
  },
  {
   "cell_type": "code",
   "execution_count": 91,
   "metadata": {
    "collapsed": true
   },
   "outputs": [],
   "source": [
    "#Fill in NA Values - If you've never been arrested we'll have blanks\n",
    "joined['arrest_rank'] = joined['arrest_rank'].fillna(0)"
   ]
  },
  {
   "cell_type": "code",
   "execution_count": 92,
   "metadata": {
    "collapsed": true
   },
   "outputs": [],
   "source": [
    "#Filter to Only First Arrests\n",
    "joined = joined[joined.arrest_rank <= 1]"
   ]
  },
  {
   "cell_type": "code",
   "execution_count": 93,
   "metadata": {
    "collapsed": false
   },
   "outputs": [],
   "source": [
    "#Create Sensor Variable - VERY IMPORTANT\n",
    "joined['censor'] = joined['date'].notnull().astype(int) #Create Censor Variable"
   ]
  },
  {
   "cell_type": "code",
   "execution_count": 94,
   "metadata": {
    "collapsed": false
   },
   "outputs": [],
   "source": [
    "#Create Years Since Draft Variable for Time\n",
    "joined['date'] = joined['date'].fillna('12-31-2015')\n",
    "joined['date'] = pd.to_datetime(joined.date) #If you weren't arrested, this will be NA - fill with 2015\n",
    "joined['year'] = joined.date.apply(lambda x: x.year) #Create 'Year' variable for Year of Arrest\n",
    "joined['time_to_arrest'] = (joined['year'] - joined['draft_year']) + 1 #Finally Time to Arrest"
   ]
  },
  {
   "cell_type": "code",
   "execution_count": 95,
   "metadata": {
    "collapsed": true
   },
   "outputs": [],
   "source": [
    "#Filter out Corey Fuller and Anthony Davis for data quality - their records are not accurate\n",
    "joined = joined[(joined['name'] != \"Corey Fuller\") & (joined['name'] != \"Anthony Davis\")]"
   ]
  },
  {
   "cell_type": "code",
   "execution_count": 96,
   "metadata": {
    "collapsed": true
   },
   "outputs": [],
   "source": [
    "#Filter to Only Players Drafted Since 2000 \n",
    "joined = joined[joined['draft_year'] >= 2000]"
   ]
  },
  {
   "cell_type": "code",
   "execution_count": 97,
   "metadata": {
    "collapsed": true
   },
   "outputs": [],
   "source": [
    "#Clean the Draft Round Variable by removing the \"th\" \"st\" \n",
    "joined['d_round'] = joined.draft_round.apply(lambda x: int(x[:-2]))"
   ]
  },
  {
   "cell_type": "code",
   "execution_count": 98,
   "metadata": {
    "collapsed": false
   },
   "outputs": [],
   "source": [
    "#Get Counts of Draftees by College & Create \"Other\" College for Players\n",
    "#drafted by schools that haven't placed more than 30 players in the NFL\n",
    "college_counts = joined.college.value_counts()\n",
    "sig_colleges = college_counts[college_counts > 15].index.tolist()\n",
    "def over15(x):\n",
    "    if x in sig_colleges: \n",
    "        return x\n",
    "    else:\n",
    "        return \"Other\"\n",
    "joined[\"college_sig\"] = joined.college.apply(lambda x: over15(x)) "
   ]
  },
  {
   "cell_type": "code",
   "execution_count": 100,
   "metadata": {
    "collapsed": false
   },
   "outputs": [
    {
     "data": {
      "text/plain": [
       "<lifelines.KaplanMeierFitter: fitted with 3236 observations, 2906 censored>"
      ]
     },
     "execution_count": 100,
     "metadata": {},
     "output_type": "execute_result"
    }
   ],
   "source": [
    "#Kaplan-Meier Curves!\n",
    "from lifelines import KaplanMeierFitter, CoxPHFitter, AalenAdditiveFitter\n",
    "kmf = KaplanMeierFitter()\n",
    "kmf.fit(joined['time_to_arrest'], event_observed=joined['censor'])"
   ]
  },
  {
   "cell_type": "code",
   "execution_count": 101,
   "metadata": {
    "collapsed": false
   },
   "outputs": [
    {
     "data": {
      "text/plain": [
       "<matplotlib.axes._subplots.AxesSubplot at 0x110539290>"
      ]
     },
     "execution_count": 101,
     "metadata": {},
     "output_type": "execute_result"
    },
    {
     "data": {
      "image/png": "[encoded data removed]",
      "text/plain": [
       "<matplotlib.figure.Figure at 0x11067f490>"
      ]
     },
     "metadata": {},
     "output_type": "display_data"
    }
   ],
   "source": [
    "kmf.plot()"
   ]
  },
  {
   "cell_type": "code",
   "execution_count": 102,
   "metadata": {
    "collapsed": false
   },
   "outputs": [
    {
     "data": {
      "text/plain": [
       "<matplotlib.axes._subplots.AxesSubplot at 0x10f71d950>"
      ]
     },
     "execution_count": 102,
     "metadata": {},
     "output_type": "execute_result"
    },
    {
     "data": {
      "image/png": "[encoded data removed]",
      "text/plain": [
       "<matplotlib.figure.Figure at 0x1130dd7d0>"
      ]
     },
     "metadata": {},
     "output_type": "display_data"
    }
   ],
   "source": [
    "#Let's Slice this up by College - up first, the Trojans of USC\n",
    "arrest = joined['time_to_arrest']\n",
    "event = joined['censor']\n",
    "college = joined['college']\n",
    "rutgers = (college == 'USC')\n",
    "\n",
    "kmf = KaplanMeierFitter()\n",
    "kmf2 = KaplanMeierFitter()\n",
    "\n",
    "kmf2.fit(arrest[~rutgers], event[~rutgers], label='Everyone_Else')\n",
    "test = kmf2\n",
    "ax = kmf2.plot()\n",
    "\n",
    "kmf.fit(arrest[rutgers], event[rutgers], label='USC')\n",
    "kmf.plot(ax=ax)"
   ]
  },
  {
   "cell_type": "code",
   "execution_count": 103,
   "metadata": {
    "collapsed": false
   },
   "outputs": [
    {
     "name": "stdout",
     "output_type": "stream",
     "text": [
      "Results\n",
      "   df: 1\n",
      "   alpha: 0.95\n",
      "   t 0: -1\n",
      "   test: logrank\n",
      "   null distribution: chi squared\n",
      "\n",
      "   __ p-value ___|__ test statistic __|____ test result ____|__ is significant __\n",
      "         0.00520 |              7.809 |      Reject Null    |        True       \n"
     ]
    }
   ],
   "source": [
    "#Let's See if the Curves are Significantly Different\n",
    "from lifelines.statistics import logrank_test\n",
    "results = logrank_test(arrest[rutgers], arrest[~rutgers], event_observed_A=event[rutgers], event_observed_B=event[~rutgers])\n",
    "results.print_summary()"
   ]
  },
  {
   "cell_type": "code",
   "execution_count": 108,
   "metadata": {
    "collapsed": false
   },
   "outputs": [],
   "source": [
    "#In order to write to a PostgresDB for Tableau, I experiment with transforming the data into a table format\n",
    "x = kmf.timeline.tolist()\n",
    "y = kmf.survival_function_.USC.tolist()\n",
    "a = kmf2.timeline.tolist()\n",
    "b = kmf2.survival_function_.Everyone_Else.tolist()\n",
    "stat = results.is_significant #Grab the True/False for Significant Difference\n",
    "pvalue = results.p_value #Grab the P-Value"
   ]
  },
  {
   "cell_type": "code",
   "execution_count": 109,
   "metadata": {
    "collapsed": false
   },
   "outputs": [],
   "source": [
    "data = {'years': x, 'curve': y}\n",
    "df1 = pd.DataFrame(data)\n",
    "df1['uid'] = 'test9999' #future application will need a UID to ensure each user gets the right data back\n",
    "df1['group'] = 'USC'"
   ]
  },
  {
   "cell_type": "code",
   "execution_count": 110,
   "metadata": {
    "collapsed": false
   },
   "outputs": [],
   "source": [
    "data = {'years': a, 'curve': b}\n",
    "df2 = pd.DataFrame(data)\n",
    "df2['uid'] = 'test9999'\n",
    "df2['group'] = 'Everyone Else'"
   ]
  },
  {
   "cell_type": "code",
   "execution_count": 111,
   "metadata": {
    "collapsed": false
   },
   "outputs": [
    {
     "data": {
      "text/html": [
       "<div style=\"max-height:1000px;max-width:1500px;overflow:auto;\">\n",
       "<table border=\"1\" class=\"dataframe\">\n",
       "  <thead>\n",
       "    <tr style=\"text-align: right;\">\n",
       "      <th></th>\n",
       "      <th>curve</th>\n",
       "      <th>years</th>\n",
       "      <th>uid</th>\n",
       "      <th>group</th>\n",
       "      <th>test</th>\n",
       "      <th>pvalue</th>\n",
       "    </tr>\n",
       "  </thead>\n",
       "  <tbody>\n",
       "    <tr>\n",
       "      <th>0</th>\n",
       "      <td> 1.000000</td>\n",
       "      <td> 0</td>\n",
       "      <td> test9999</td>\n",
       "      <td> USC</td>\n",
       "      <td> True</td>\n",
       "      <td> 0.005197</td>\n",
       "    </tr>\n",
       "    <tr>\n",
       "      <th>1</th>\n",
       "      <td> 0.986301</td>\n",
       "      <td> 1</td>\n",
       "      <td> test9999</td>\n",
       "      <td> USC</td>\n",
       "      <td> True</td>\n",
       "      <td> 0.005197</td>\n",
       "    </tr>\n",
       "    <tr>\n",
       "      <th>2</th>\n",
       "      <td> 0.904110</td>\n",
       "      <td> 2</td>\n",
       "      <td> test9999</td>\n",
       "      <td> USC</td>\n",
       "      <td> True</td>\n",
       "      <td> 0.005197</td>\n",
       "    </tr>\n",
       "    <tr>\n",
       "      <th>3</th>\n",
       "      <td> 0.876712</td>\n",
       "      <td> 3</td>\n",
       "      <td> test9999</td>\n",
       "      <td> USC</td>\n",
       "      <td> True</td>\n",
       "      <td> 0.005197</td>\n",
       "    </tr>\n",
       "    <tr>\n",
       "      <th>4</th>\n",
       "      <td> 0.818265</td>\n",
       "      <td> 4</td>\n",
       "      <td> test9999</td>\n",
       "      <td> USC</td>\n",
       "      <td> True</td>\n",
       "      <td> 0.005197</td>\n",
       "    </tr>\n",
       "  </tbody>\n",
       "</table>\n",
       "</div>"
      ],
      "text/plain": [
       "      curve  years       uid group  test    pvalue\n",
       "0  1.000000      0  test9999   USC  True  0.005197\n",
       "1  0.986301      1  test9999   USC  True  0.005197\n",
       "2  0.904110      2  test9999   USC  True  0.005197\n",
       "3  0.876712      3  test9999   USC  True  0.005197\n",
       "4  0.818265      4  test9999   USC  True  0.005197"
      ]
     },
     "execution_count": 111,
     "metadata": {},
     "output_type": "execute_result"
    }
   ],
   "source": [
    "table = df1.append(df2, ignore_index = True)\n",
    "table['test'] = stat\n",
    "table['pvalue'] = pvalue\n",
    "table.head()"
   ]
  },
  {
   "cell_type": "code",
   "execution_count": 86,
   "metadata": {
    "collapsed": false
   },
   "outputs": [],
   "source": [
    "#Sample Table code looks good. On to Python-Flask application code not featured here. "
   ]
  }
 ],
 "metadata": {
  "kernelspec": {
   "display_name": "Python 2",
   "language": "python",
   "name": "python2"
  },
  "language_info": {
   "codemirror_mode": {
    "name": "ipython",
    "version": 2
   },
   "file_extension": ".py",
   "mimetype": "text/x-python",
   "name": "python",
   "nbconvert_exporter": "python",
   "pygments_lexer": "ipython2",
   "version": "2.7.11"
  }
 },
 "nbformat": 4,
 "nbformat_minor": 0
}
